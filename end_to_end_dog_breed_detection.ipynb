{
  "nbformat": 4,
  "nbformat_minor": 0,
  "metadata": {
    "colab": {
      "name": "end_to_end_dog_breed_detection",
      "provenance": [],
      "collapsed_sections": [],
      "mount_file_id": "1-CfbBafZIhZYyK8jnxbE_bGKee6kVT_y",
      "authorship_tag": "ABX9TyMlOoOR4dN1bezkcHSQph2M"
    },
    "kernelspec": {
      "name": "python3",
      "display_name": "Python 3"
    },
    "language_info": {
      "name": "python"
    },
    "accelerator": "GPU",
    "gpuClass": "standard"
  },
  "cells": [
    {
      "cell_type": "markdown",
      "source": [
        "#End to end multiclass dog breed detection\n",
        "\n",
        "this notebook builds a multiclass classification model using tensorflow and tensorflow 2.0\n",
        "\n",
        "##1. Problem\n",
        "\n",
        "identifying the breed of a dog using a provided image\n",
        "\n",
        "##2. Data\n",
        "\n",
        "the data we are using is from a kaggle competition (https://www.kaggle.com/competitions/dog-breed-identification)\n",
        "\n",
        "##3. Evaluation\n",
        "\n",
        "the evaluation (or the submission file in this case) is a file containing the probaboilty of being any of the listed dog breeds for every given image\n",
        "\n",
        "##4. Features\n",
        "\n",
        "some info about the data:\n",
        "\n",
        "* were dealing with dog images (ustructured data) so we'll be using deep learning\n",
        "* there are 120 dog breeds so the model is a multiclass clasifier \n",
        "* there are around 10,000 + images in each train and test folder\n"
      ],
      "metadata": {
        "id": "Pyl9xUhe43w7"
      }
    },
    {
      "cell_type": "code",
      "execution_count": 1,
      "metadata": {
        "id": "l341wJZGmmmN"
      },
      "outputs": [],
      "source": [
        "# unzip the zip folder containg the needed data\n",
        "# !unzip \"/content/drive/MyDrive/Colab Notebooks/dog breed detection project/dog-breed-identification.zip\" -d \"/content/drive/MyDrive/Colab Notebooks/dog breed detection project/\""
      ]
    },
    {
      "cell_type": "markdown",
      "source": [
        "## Geting our workspace ready\n",
        "\n",
        "whats we'll be doing:\n",
        "\n",
        "* import tensorflow 2.x\n",
        "* import tensordlow hub\n",
        "* make sure we are using a gpu\n",
        "* import other neccasary tools"
      ],
      "metadata": {
        "id": "Z9853_3z9nBM"
      }
    },
    {
      "cell_type": "code",
      "source": [
        "# importing some tools\n",
        "import tensorflow as tf\n",
        "import tensorflow_hub as hub\n",
        "\n",
        "# check for GPU availability \n",
        "print(\"GPU AVILABLE!!!!!!\" if tf.config.list_physical_devices(\"GPU\") else \"not available\")"
      ],
      "metadata": {
        "id": "cep22NC32goe",
        "colab": {
          "base_uri": "https://localhost:8080/"
        },
        "outputId": "1a56372e-31fe-4b2c-b0cd-826b86bfeabd"
      },
      "execution_count": 2,
      "outputs": [
        {
          "output_type": "stream",
          "name": "stdout",
          "text": [
            "GPU AVILABLE!!!!!!\n"
          ]
        }
      ]
    },
    {
      "cell_type": "code",
      "source": [
        ""
      ],
      "metadata": {
        "id": "riKkann686x4"
      },
      "execution_count": 2,
      "outputs": []
    }
  ]
}